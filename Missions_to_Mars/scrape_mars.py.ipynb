{
 "cells": [
  {
   "cell_type": "code",
   "execution_count": 1,
   "metadata": {},
   "outputs": [],
   "source": [
    "from splinter import Browser\n",
    "from bs4 import BeautifulSoup as bs\n",
    "import time\n"
   ]
  },
  {
   "cell_type": "code",
   "execution_count": 2,
   "metadata": {},
   "outputs": [],
   "source": [
    "def init_browser():\n",
    "# @NOTE: Replace the path with your actual path to the chromedriver\n",
    "    executable_path={'executable_path':'/Users/kimkockenmeister/Downloads/chromedriver-3'}\n",
    "    return Browser(\"chrome\", **executable_path, headless = False)\n"
   ]
  },
  {
   "cell_type": "code",
   "execution_count": 9,
   "metadata": {},
   "outputs": [],
   "source": [
    "def scrape():\n",
    "    browser = init_browser()\n",
    "   \n",
    "    # Visit url\n",
    "    url = \"https://mars.nasa.gov/news/\"\n",
    "    browser.visit(url)\n",
    "\n",
    "    time.sleep(1)\n",
    "\n",
    "    # Scrape page into Soup\n",
    "    html = browser.html\n",
    "    soup = bs(html, \"html.parser\")\n",
    "\n",
    "    # Store data in a dictionary\n",
    "    mars_dict = {}\n",
    "    \n",
    "    #web scrape news\n",
    "    article = soup.find(\"div\", class_='list_text')\n",
    "    news_title = article.find(\"div\",class_=\"content_title\").text\n",
    "    news_paragraph = article.find(\"div\", class_=\"article_teaser_body\").text\n",
    "    \n",
    "    mars_dict['news_title'] = news_title\n",
    "    mars_dict['news_paragraph'] = news_paragraph \n",
    "    \n",
    "    #web scrape image\n",
    "    image_url = \"https://www.jpl.nasa.gov/spaceimages/?search=&category=Mars\"\n",
    "    browser.visit(image_url)\n",
    "    \n",
    "    time.sleep(2)\n",
    "    \n",
    "    html = browser.html\n",
    "    soup = bs(html, \"html.parser\")\n",
    "    featured_image=soup.find_all('article',class_=\"carousel_item\")[0]['style']\n",
    "    featured_image=featured_image.strip(\"background-image: url('\")\n",
    "    featured_image=featured_image.strip(\"');\")\n",
    "    featured_image=featured_image.strip(\"')\")\n",
    "    base_url=\"https://www.jpl.nasa.gov\"\n",
    "    featured_image_url=base_url+featured_image\n",
    "    mars_dict[\"featured_image\"] = featured_image_url\n",
    "    \n",
    "    #web scrape facts\n",
    "    facts_url = \"https://space-facts.com/mars/\"\n",
    "    browser.visit(facts_url)\n",
    "    time.sleep(2)\n",
    "    mars_data = pd.read_html(facts_url)\n",
    "    mars_data = pd.DataFrame(mars_data[0])\n",
    "    #Use Pandas to convert the data to a HTML table string.\n",
    "    mars_facts = mars_data.to_html(header = False, index = False)\n",
    "    mars_dict[\"mars facts\"] = mars_data\n",
    "\n",
    "    #web scrape hemisphere\n",
    "    hemispheres_url = \"https://astrogeology.usgs.gov/search/results?q=hemisphere+enhanced&k1=target&v1=Mars\"\n",
    "    browser.visit(hemispheres_url)\n",
    "    html = browser.html\n",
    "    soup = bs(html, \"html.parser\")\n",
    "    mars_hemisphere = []\n",
    "\n",
    "    products = soup.find(\"div\", class_ = \"result-list\" )\n",
    "    hemispheres = products.find_all(\"div\", class_=\"item\")\n",
    "\n",
    "    for hemisphere in hemispheres:\n",
    "        title = hemisphere.find(\"h3\").text\n",
    "        title = title.replace(\"Enhanced\", \"\")\n",
    "        end_link = hemisphere.find(\"a\")[\"href\"]\n",
    "        image_link = \"https://astrogeology.usgs.gov/\" + end_link    \n",
    "        browser.visit(image_link)\n",
    "        html = browser.html\n",
    "        soup=bs(html, \"html.parser\")\n",
    "        downloads = soup.find(\"div\", class_=\"downloads\")\n",
    "        image_url = downloads.find(\"a\")[\"href\"]\n",
    "        mars_hemisphere.append({\"title\": title, \"img_url\": image_url})\n",
    "\n",
    "    mars_dict[\"hemisphere_img_url\"] = mars_hemisphere\n",
    "\n",
    "    return mars_dict   "
   ]
  },
  {
   "cell_type": "code",
   "execution_count": null,
   "metadata": {},
   "outputs": [],
   "source": []
  },
  {
   "cell_type": "code",
   "execution_count": null,
   "metadata": {},
   "outputs": [],
   "source": []
  }
 ],
 "metadata": {
  "kernelspec": {
   "display_name": "Python 3",
   "language": "python",
   "name": "python3"
  },
  "language_info": {
   "codemirror_mode": {
    "name": "ipython",
    "version": 3
   },
   "file_extension": ".py",
   "mimetype": "text/x-python",
   "name": "python",
   "nbconvert_exporter": "python",
   "pygments_lexer": "ipython3",
   "version": "3.8.3"
  }
 },
 "nbformat": 4,
 "nbformat_minor": 4
}
